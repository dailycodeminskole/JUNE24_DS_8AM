{
 "cells": [
  {
   "cell_type": "code",
   "execution_count": 1,
   "id": "44dc22d0",
   "metadata": {},
   "outputs": [],
   "source": [
    "import re"
   ]
  },
  {
   "cell_type": "code",
   "execution_count": 2,
   "id": "188c912c",
   "metadata": {},
   "outputs": [],
   "source": [
    "s ='''abcdefghijklmnopqurtuvwxyz \n",
    "ABCDEFGHIJKLMNOPQRSTUVWXYZ\n",
    "\n",
    "one_call\n",
    "1234567890\n",
    "\n",
    "Ha HaHa\n",
    "\n",
    "abcdef\n",
    "[{()\\^$|?**\n",
    "\n",
    "minskole.com\n",
    "minskolezcom\n",
    "\n",
    "321-555-4321 \n",
    "123.555.1234\n",
    "823.555.1234\n",
    "923.555.1234\n",
    "\n",
    "123456789000\n",
    "\n",
    "Mr. Varma\n",
    "\n",
    "Mr Anant \n",
    "Ms Nandini\n",
    "Mrs. Singh\n",
    "Mr. T'''"
   ]
  },
  {
   "cell_type": "code",
   "execution_count": 3,
   "id": "9537edd4",
   "metadata": {},
   "outputs": [],
   "source": [
    "# find abc in the string "
   ]
  },
  {
   "cell_type": "code",
   "execution_count": 4,
   "id": "f87b43e6",
   "metadata": {},
   "outputs": [
    {
     "name": "stdout",
     "output_type": "stream",
     "text": [
      "['abc', 'abc']\n"
     ]
    }
   ],
   "source": [
    "pattern =\"abc\"\n",
    "res = re.findall(pattern,s)\n",
    "print(res)"
   ]
  },
  {
   "cell_type": "code",
   "execution_count": 5,
   "id": "a8ce3cc2",
   "metadata": {},
   "outputs": [],
   "source": [
    "# find ABC in the string \n",
    "# case sensitive"
   ]
  },
  {
   "cell_type": "code",
   "execution_count": 6,
   "id": "5f02178d",
   "metadata": {},
   "outputs": [
    {
     "name": "stdout",
     "output_type": "stream",
     "text": [
      "['ABC']\n"
     ]
    }
   ],
   "source": [
    "pattern = 'ABC'\n",
    "print(re.findall(pattern,s))\n"
   ]
  },
  {
   "cell_type": "code",
   "execution_count": 7,
   "id": "f228320a",
   "metadata": {},
   "outputs": [
    {
     "name": "stdout",
     "output_type": "stream",
     "text": [
      "[]\n"
     ]
    }
   ],
   "source": [
    "# order is important \n",
    "pattern = 'CBA'\n",
    "print(re.findall(pattern,s)) # o/p will be empty"
   ]
  },
  {
   "cell_type": "code",
   "execution_count": 8,
   "id": "76c95803",
   "metadata": {},
   "outputs": [
    {
     "name": "stdout",
     "output_type": "stream",
     "text": [
      "['a', 'b', 'c', 'd', 'e', 'f', 'g', 'h', 'i', 'j', 'k', 'l', 'm', 'n', 'o', 'p', 'q', 'u', 'r', 't', 'u', 'v', 'w', 'x', 'y', 'z', ' ', 'A', 'B', 'C', 'D', 'E', 'F', 'G', 'H', 'I', 'J', 'K', 'L', 'M', 'N', 'O', 'P', 'Q', 'R', 'S', 'T', 'U', 'V', 'W', 'X', 'Y', 'Z', 'o', 'n', 'e', '_', 'c', 'a', 'l', 'l', '1', '2', '3', '4', '5', '6', '7', '8', '9', '0', 'H', 'a', ' ', 'H', 'a', 'H', 'a', 'a', 'b', 'c', 'd', 'e', 'f', '[', '{', '(', ')', '\\\\', '^', '$', '|', '?', '*', '*', 'm', 'i', 'n', 's', 'k', 'o', 'l', 'e', '.', 'c', 'o', 'm', 'm', 'i', 'n', 's', 'k', 'o', 'l', 'e', 'z', 'c', 'o', 'm', '3', '2', '1', '-', '5', '5', '5', '-', '4', '3', '2', '1', ' ', '1', '2', '3', '.', '5', '5', '5', '.', '1', '2', '3', '4', '8', '2', '3', '.', '5', '5', '5', '.', '1', '2', '3', '4', '9', '2', '3', '.', '5', '5', '5', '.', '1', '2', '3', '4', '1', '2', '3', '4', '5', '6', '7', '8', '9', '0', '0', '0', 'M', 'r', '.', ' ', 'V', 'a', 'r', 'm', 'a', 'M', 'r', ' ', 'A', 'n', 'a', 'n', 't', ' ', 'M', 's', ' ', 'N', 'a', 'n', 'd', 'i', 'n', 'i', 'M', 'r', 's', '.', ' ', 'S', 'i', 'n', 'g', 'h', 'M', 'r', '.', ' ', 'T']\n"
     ]
    }
   ],
   "source": [
    "# \".\" will represent everything (except new line)\n",
    "pattern = '.'\n",
    "print(re.findall(pattern,s))"
   ]
  },
  {
   "cell_type": "code",
   "execution_count": 9,
   "id": "de525fe4",
   "metadata": {},
   "outputs": [
    {
     "name": "stdout",
     "output_type": "stream",
     "text": [
      "['minskole.com', 'minskolezcom']\n"
     ]
    }
   ],
   "source": [
    "pattern = 'minskole.com'\n",
    "print(re.findall(pattern,s))"
   ]
  },
  {
   "cell_type": "code",
   "execution_count": 10,
   "id": "15ccbc42",
   "metadata": {},
   "outputs": [
    {
     "name": "stdout",
     "output_type": "stream",
     "text": [
      "['minskole.com']\n"
     ]
    }
   ],
   "source": [
    "pattern = 'minskole\\.com' #METACHARACTER \n",
    "print(re.findall(pattern,s))"
   ]
  },
  {
   "cell_type": "markdown",
   "id": "854ec3d2",
   "metadata": {},
   "source": [
    "# METACHARACTER"
   ]
  },
  {
   "cell_type": "code",
   "execution_count": 11,
   "id": "924215e4",
   "metadata": {},
   "outputs": [
    {
     "data": {
      "text/plain": [
       "'\\n>> METACHARACTER \\nthey don match themselves \\nbut only signal for a special\\n\\n>> Special Sequences METACHARACTER \\nA special sequence is a \\\\ followed by one of the characters in the list below, and has a special meaning:\\n\\n\\t\\n\\\\d\\tReturns a match where the string contains digits (numbers from 0-9)\\t\"\\\\d\"\\t\\n\\\\D\\tReturns a match where the string DOES NOT contain digits\\t\"\\\\D\"\\t\\n\\\\s\\tReturns a match where the string contains a white space character\\t\"\\\\s\"\\t\\n\\\\S\\tReturns a match where the string DOES NOT contain a white space character\\t\"\\\\S\"\\t\\n\\\\w\\tReturns a match where the string contains any word characters (characters from a to Z, digits from 0-9, and the underscore _ character)\\t\"\\\\w\"\\t\\n\\\\W\\tReturns a match where the string DOES NOT contain any word characters\\t\"\\\\W\"\\t\\n\\\\Z\\tReturns a match if the specified characters are at the end of the string\\t\"Spain\\\\Z\"\\n\\\\A\\tReturns a match if the specified characters are at the beginning of the string\\t\"\\\\AThe\"\\t\\n\\n\\nThey will search  for one character only \\n\\n\\n'"
      ]
     },
     "execution_count": 11,
     "metadata": {},
     "output_type": "execute_result"
    }
   ],
   "source": [
    "'''\n",
    ">> METACHARACTER \n",
    "they don match themselves \n",
    "but only signal for a special\n",
    "\n",
    ">> Special Sequences METACHARACTER \n",
    "A special sequence is a \\ followed by one of the characters in the list below, and has a special meaning:\n",
    "\n",
    "\t\n",
    "\\d\tReturns a match where the string contains digits (numbers from 0-9)\t\"\\d\"\t\n",
    "\\D\tReturns a match where the string DOES NOT contain digits\t\"\\D\"\t\n",
    "\\s\tReturns a match where the string contains a white space character\t\"\\s\"\t\n",
    "\\S\tReturns a match where the string DOES NOT contain a white space character\t\"\\S\"\t\n",
    "\\w\tReturns a match where the string contains any word characters (characters from a to Z, digits from 0-9, and the underscore _ character)\t\"\\w\"\t\n",
    "\\W\tReturns a match where the string DOES NOT contain any word characters\t\"\\W\"\t\n",
    "\\Z\tReturns a match if the specified characters are at the end of the string\t\"Spain\\Z\"\n",
    "\\A\tReturns a match if the specified characters are at the beginning of the string\t\"\\AThe\"\t\n",
    "\n",
    "\n",
    "They will search  for one character only \n",
    "\n",
    "\n",
    "'''"
   ]
  },
  {
   "cell_type": "code",
   "execution_count": null,
   "id": "1a380cea",
   "metadata": {},
   "outputs": [],
   "source": []
  },
  {
   "cell_type": "markdown",
   "id": "d1aaf110",
   "metadata": {},
   "source": [
    "# ANCHORS METACHARACTER"
   ]
  },
  {
   "cell_type": "code",
   "execution_count": 12,
   "id": "26576b19",
   "metadata": {},
   "outputs": [
    {
     "data": {
      "text/plain": [
       "'\\n\\x08\\tReturns a match where the specified characters are at the beginning or at the end of a word\\n\\t(the \"r\" in the beginning is making sure that the string is being treated as a \"raw string\")\\tr\"\\x08ain\" r\"ain\\x08\"\\t\\n\\\\B\\tReturns a match where the specified characters are present, but NOT at the beginning (or at the end) of a word\\n\\t(the \"r\" in the beginning is making sure that the string is being treated as a \"raw string\")\\tr\"\\\\Bain\"\\n\\tr\"ain\\\\B\"\\n\\n^\\tStarts with\\n$\\tEnds with\\n\\n\\n'"
      ]
     },
     "execution_count": 12,
     "metadata": {},
     "output_type": "execute_result"
    }
   ],
   "source": [
    "'''\n",
    "\\b\tReturns a match where the specified characters are at the beginning or at the end of a word\n",
    "\t(the \"r\" in the beginning is making sure that the string is being treated as a \"raw string\")\tr\"\\bain\" r\"ain\\b\"\t\n",
    "\\B\tReturns a match where the specified characters are present, but NOT at the beginning (or at the end) of a word\n",
    "\t(the \"r\" in the beginning is making sure that the string is being treated as a \"raw string\")\tr\"\\Bain\"\n",
    "\tr\"ain\\B\"\n",
    "\n",
    "^\tStarts with\n",
    "$\tEnds with\n",
    "\n",
    "\n",
    "'''"
   ]
  },
  {
   "cell_type": "code",
   "execution_count": 15,
   "id": "68807b3e",
   "metadata": {},
   "outputs": [],
   "source": [
    "# checking the border condition\n",
    "# 1\t2 3 \n",
    "# Ha HaHa"
   ]
  },
  {
   "cell_type": "code",
   "execution_count": 52,
   "id": "d443cfc3",
   "metadata": {
    "scrolled": true
   },
   "outputs": [
    {
     "name": "stdout",
     "output_type": "stream",
     "text": [
      "['Ha', 'Ha']\n"
     ]
    }
   ],
   "source": [
    "pattern = r'\\bHa' #we will get only 1st and 2nd as the output\n",
    "print(re.findall(pattern,s))"
   ]
  },
  {
   "cell_type": "code",
   "execution_count": 53,
   "id": "e1e5f6b6",
   "metadata": {},
   "outputs": [
    {
     "name": "stdout",
     "output_type": "stream",
     "text": [
      "['Ha', 'Ha']\n"
     ]
    }
   ],
   "source": [
    "pattern = r'Ha\\b' #we will get only 1st and 3rd Ha as the output\n",
    "print(re.findall(pattern,s))"
   ]
  },
  {
   "cell_type": "code",
   "execution_count": 54,
   "id": "4b3c25ed",
   "metadata": {},
   "outputs": [
    {
     "name": "stdout",
     "output_type": "stream",
     "text": [
      "['Ha']\n"
     ]
    }
   ],
   "source": [
    "pattern = r'\\BHa' #we will get only 3rd Ha as the output\n",
    "print(re.findall(pattern,s))"
   ]
  },
  {
   "cell_type": "code",
   "execution_count": 24,
   "id": "73817cb4",
   "metadata": {},
   "outputs": [],
   "source": [
    "# Look for a pattern at the beginning or at the end of the String"
   ]
  },
  {
   "cell_type": "code",
   "execution_count": 26,
   "id": "57f5aa8e",
   "metadata": {},
   "outputs": [
    {
     "name": "stdout",
     "output_type": "stream",
     "text": [
      "['abc']\n"
     ]
    }
   ],
   "source": [
    "# finding a pattern beginning with abc\n",
    "pattern = r'^abc'\n",
    "print(re.findall(pattern,s))"
   ]
  },
  {
   "cell_type": "code",
   "execution_count": 27,
   "id": "6cd39b54",
   "metadata": {},
   "outputs": [
    {
     "name": "stdout",
     "output_type": "stream",
     "text": [
      "['T']\n"
     ]
    }
   ],
   "source": [
    "# finding T at the end of the string\n",
    "pattern = r'T$'\n",
    "print(re.findall(pattern,s))"
   ]
  },
  {
   "cell_type": "code",
   "execution_count": 28,
   "id": "3d3becdb",
   "metadata": {},
   "outputs": [],
   "source": [
    "# finding the phone numbers"
   ]
  },
  {
   "cell_type": "code",
   "execution_count": 29,
   "id": "ff13c56d",
   "metadata": {},
   "outputs": [
    {
     "name": "stdout",
     "output_type": "stream",
     "text": [
      "['321-555-4321', '123.555.1234', '823.555.1234', '923.555.1234', '123456789000']\n"
     ]
    }
   ],
   "source": [
    "pattern = r'\\d\\d\\d.\\d\\d\\d.\\d\\d\\d\\d'\n",
    "print(re.findall(pattern,s))"
   ]
  },
  {
   "cell_type": "code",
   "execution_count": 30,
   "id": "3c9838a3",
   "metadata": {},
   "outputs": [
    {
     "name": "stdout",
     "output_type": "stream",
     "text": [
      "['321-555-4321', '123.555.1234', '823.555.1234', '923.555.1234']\n"
     ]
    }
   ],
   "source": [
    "pattern = r'\\d\\d\\d[-\\.]\\d\\d\\d[-\\.]\\d\\d\\d\\d' #SINCE \".\" is inside the [] , it will be considered as \".\" only\n",
    "print(re.findall(pattern,s))"
   ]
  },
  {
   "cell_type": "code",
   "execution_count": 31,
   "id": "2fc6bbdc",
   "metadata": {},
   "outputs": [
    {
     "name": "stdout",
     "output_type": "stream",
     "text": [
      "['321-555-4321', '123.555.1234', '823.555.1234', '923.555.1234']\n"
     ]
    }
   ],
   "source": [
    "pattern = r'\\d\\d\\d[-.]\\d\\d\\d[-.]\\d\\d\\d\\d'\n",
    "print(re.findall(pattern,s))"
   ]
  },
  {
   "cell_type": "code",
   "execution_count": 32,
   "id": "6d7c9da5",
   "metadata": {},
   "outputs": [
    {
     "data": {
      "text/plain": [
       "'\\n[1-6] from 1 to 6\\n[a-z] from a to z\\n[a-zA-Z0-9] is same as \\\\w\\n'"
      ]
     },
     "execution_count": 32,
     "metadata": {},
     "output_type": "execute_result"
    }
   ],
   "source": [
    "# we can use to find a range of char\n",
    "\n",
    "'''\n",
    "[1-6] from 1 to 6\n",
    "[a-z] from a to z\n",
    "[a-zA-Z0-9] is same as \\w\n",
    "'''"
   ]
  },
  {
   "cell_type": "code",
   "execution_count": 35,
   "id": "ef1793da",
   "metadata": {},
   "outputs": [
    {
     "data": {
      "text/plain": [
       "'\\n\\n[^a-z]\\n\\n'"
      ]
     },
     "execution_count": 35,
     "metadata": {},
     "output_type": "execute_result"
    }
   ],
   "source": [
    "# looking for a character not in the range\n",
    "# to negate the whole range/thing\n",
    "# ^ inside a [] will negate the range\n",
    "'''\n",
    "\n",
    "[^a-z]\n",
    "\n",
    "'''\n"
   ]
  },
  {
   "cell_type": "code",
   "execution_count": 38,
   "id": "5575b8f2",
   "metadata": {},
   "outputs": [
    {
     "name": "stdout",
     "output_type": "stream",
     "text": [
      "['823.555.1234', '923.555.1234']\n"
     ]
    }
   ],
   "source": [
    "# If we want numbers starting from 8 or 9 only\n",
    "\n",
    "pattern = r'[89]\\d\\d[-.]\\d\\d\\d[-.]\\d\\d\\d\\d' # this will search for 8 or 9 as the 1st digit\n",
    "print(re.findall(pattern,s))\n"
   ]
  },
  {
   "cell_type": "markdown",
   "id": "1c5b5c9a",
   "metadata": {},
   "source": [
    "#  QUANTIFIERS"
   ]
  },
  {
   "cell_type": "code",
   "execution_count": 39,
   "id": "380fd93e",
   "metadata": {},
   "outputs": [
    {
     "data": {
      "text/plain": [
       "'\\n*\\tZero or more occurrences\\t\"he.*o\"\\t\\n+\\tOne or more occurrences\\t\"he.+o\"\\t\\n?\\tZero or one occurrences\\t\"he.?o\"\\t\\n{}\\tExactly the specified number of occurrences\\t\"he.{2}o\"\\n\\n\\n'"
      ]
     },
     "execution_count": 39,
     "metadata": {},
     "output_type": "execute_result"
    }
   ],
   "source": [
    "'''\n",
    "*\tZero or more occurrences\t\"he.*o\"\t\n",
    "+\tOne or more occurrences\t\"he.+o\"\t\n",
    "?\tZero or one occurrences\t\"he.?o\"\t\n",
    "{}\tExactly the specified number of occurrences\t\"he.{2}o\"\n",
    "\n",
    "\n",
    "'''"
   ]
  },
  {
   "cell_type": "code",
   "execution_count": 40,
   "id": "d62a337f",
   "metadata": {},
   "outputs": [],
   "source": [
    "# optimising the solution using quantifiers"
   ]
  },
  {
   "cell_type": "code",
   "execution_count": 41,
   "id": "92b46124",
   "metadata": {},
   "outputs": [
    {
     "name": "stdout",
     "output_type": "stream",
     "text": [
      "['823.555.1234', '923.555.1234']\n"
     ]
    }
   ],
   "source": [
    "pattern = r'[89]\\d{2}[-.]\\d{3}[-.]\\d{4}'\n",
    "print(re.findall(pattern,s))"
   ]
  },
  {
   "cell_type": "code",
   "execution_count": 57,
   "id": "9c07a39b",
   "metadata": {},
   "outputs": [
    {
     "name": "stdout",
     "output_type": "stream",
     "text": [
      "['321-555-4321', '123.555.1234', '823.555.1234', '923.555.1234']\n"
     ]
    }
   ],
   "source": [
    "pattern = r'\\d{3}[-.]\\d{3}[-.]\\d{4}'\n",
    "print(re.findall(pattern,s))"
   ]
  },
  {
   "cell_type": "code",
   "execution_count": 42,
   "id": "aa41e5ad",
   "metadata": {},
   "outputs": [],
   "source": [
    "# finding the names"
   ]
  },
  {
   "cell_type": "code",
   "execution_count": 50,
   "id": "cdec88e7",
   "metadata": {},
   "outputs": [
    {
     "name": "stdout",
     "output_type": "stream",
     "text": [
      "['Mr. Varma', 'Mr Anant', 'Ms Nandini', 'Mrs. Singh', 'Mr. T']\n"
     ]
    }
   ],
   "source": [
    "pattern = r'M[rs][.s]?\\.?\\s[A-Z][a-z]*'\n",
    "print(re.findall(pattern,s))"
   ]
  },
  {
   "cell_type": "markdown",
   "id": "b5024414",
   "metadata": {},
   "source": [
    "# GROUPING"
   ]
  },
  {
   "cell_type": "code",
   "execution_count": 49,
   "id": "79651f36",
   "metadata": {},
   "outputs": [
    {
     "name": "stdout",
     "output_type": "stream",
     "text": [
      "['r', 'r', 's', 'rs', 'r']\n"
     ]
    }
   ],
   "source": [
    "pattern = r\"M(r|s|rs)\\.?\\s[A-Z][a-z]*\"\n",
    "print(re.findall(pattern,s))"
   ]
  },
  {
   "attachments": {
    "image.png": {
     "image/png": "[encoded data removed]"
    }
   },
   "cell_type": "markdown",
   "id": "a1cad272",
   "metadata": {},
   "source": [
    "![image.png](attachment:image.png)"
   ]
  },
  {
   "cell_type": "code",
   "execution_count": null,
   "id": "03b4e03e",
   "metadata": {},
   "outputs": [],
   "source": []
  }
 ],
 "metadata": {
  "kernelspec": {
   "display_name": "Python 3 (ipykernel)",
   "language": "python",
   "name": "python3"
  },
  "language_info": {
   "codemirror_mode": {
    "name": "ipython",
    "version": 3
   },
   "file_extension": ".py",
   "mimetype": "text/x-python",
   "name": "python",
   "nbconvert_exporter": "python",
   "pygments_lexer": "ipython3",
   "version": "3.10.5"
  }
 },
 "nbformat": 4,
 "nbformat_minor": 5
}
