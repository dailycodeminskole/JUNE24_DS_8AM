{
 "cells": [
  {
   "cell_type": "markdown",
   "id": "5894ffe9",
   "metadata": {},
   "source": [
    "# Exception Handeling and User defined Exceptions"
   ]
  },
  {
   "cell_type": "code",
   "execution_count": 1,
   "id": "76b6a143",
   "metadata": {},
   "outputs": [],
   "source": [
    "# revision\n",
    "# using try...except block to cathc the exception"
   ]
  },
  {
   "cell_type": "code",
   "execution_count": 8,
   "id": "fbfc9807",
   "metadata": {},
   "outputs": [
    {
     "ename": "ZeroDivisionError",
     "evalue": "division by zero",
     "output_type": "error",
     "traceback": [
      "\u001b[1;31m---------------------------------------------------------------------------\u001b[0m",
      "\u001b[1;31mZeroDivisionError\u001b[0m                         Traceback (most recent call last)",
      "Input \u001b[1;32mIn [8]\u001b[0m, in \u001b[0;36m<cell line: 3>\u001b[1;34m()\u001b[0m\n\u001b[0;32m      1\u001b[0m a \u001b[38;5;241m=\u001b[39m \u001b[38;5;241m100\u001b[39m\n\u001b[0;32m      2\u001b[0m b \u001b[38;5;241m=\u001b[39m \u001b[38;5;241m0\u001b[39m\n\u001b[1;32m----> 3\u001b[0m c \u001b[38;5;241m=\u001b[39m \u001b[43ma\u001b[49m\u001b[38;5;241;43m/\u001b[39;49m\u001b[43mb\u001b[49m\n\u001b[0;32m      4\u001b[0m \u001b[38;5;28mprint\u001b[39m(c)\n",
      "\u001b[1;31mZeroDivisionError\u001b[0m: division by zero"
     ]
    }
   ],
   "source": [
    "# Exception : ZeroDivisionError : this has to be handeled by the code\n",
    "a = 100\n",
    "b = 0\n",
    "c = a/b\n",
    "print(c)"
   ]
  },
  {
   "cell_type": "code",
   "execution_count": 9,
   "id": "99c3b0c6",
   "metadata": {},
   "outputs": [
    {
     "ename": "SyntaxError",
     "evalue": "incomplete input (2830795347.py, line 4)",
     "output_type": "error",
     "traceback": [
      "\u001b[1;36m  Input \u001b[1;32mIn [9]\u001b[1;36m\u001b[0m\n\u001b[1;33m    print(c\u001b[0m\n\u001b[1;37m           ^\u001b[0m\n\u001b[1;31mSyntaxError\u001b[0m\u001b[1;31m:\u001b[0m incomplete input\n"
     ]
    }
   ],
   "source": [
    "#  error :  SyntaxError :  developer has to rectify this error\n",
    "a = 100\n",
    "b = 0\n",
    "c = a/b\n",
    "print(c"
   ]
  },
  {
   "cell_type": "code",
   "execution_count": 10,
   "id": "918d58bf",
   "metadata": {},
   "outputs": [
    {
     "name": "stdout",
     "output_type": "stream",
     "text": [
      "ENter a number 100\n",
      "1.0\n",
      "A\n"
     ]
    }
   ],
   "source": [
    "a = 100\n",
    "name = \"MAHESH\"\n",
    "b = int(input(\"ENter a number \"))\n",
    "c = a/b\n",
    "print(c)\n",
    "print(name[1])\n"
   ]
  },
  {
   "cell_type": "code",
   "execution_count": 14,
   "id": "8c91f996",
   "metadata": {},
   "outputs": [
    {
     "name": "stdout",
     "output_type": "stream",
     "text": [
      "ENter a number other than ZERO!!!0\n"
     ]
    },
    {
     "ename": "ZeroDivisionError",
     "evalue": "division by zero",
     "output_type": "error",
     "traceback": [
      "\u001b[1;31m---------------------------------------------------------------------------\u001b[0m",
      "\u001b[1;31mZeroDivisionError\u001b[0m                         Traceback (most recent call last)",
      "Input \u001b[1;32mIn [14]\u001b[0m, in \u001b[0;36m<cell line: 4>\u001b[1;34m()\u001b[0m\n\u001b[0;32m      2\u001b[0m name \u001b[38;5;241m=\u001b[39m \u001b[38;5;124m\"\u001b[39m\u001b[38;5;124mMAHESH\u001b[39m\u001b[38;5;124m\"\u001b[39m\n\u001b[0;32m      3\u001b[0m b \u001b[38;5;241m=\u001b[39m \u001b[38;5;28mint\u001b[39m(\u001b[38;5;28minput\u001b[39m(\u001b[38;5;124m\"\u001b[39m\u001b[38;5;124mENter a number other than ZERO!!!\u001b[39m\u001b[38;5;124m\"\u001b[39m))\n\u001b[1;32m----> 4\u001b[0m c \u001b[38;5;241m=\u001b[39m \u001b[43ma\u001b[49m\u001b[38;5;241;43m/\u001b[39;49m\u001b[43mb\u001b[49m\n\u001b[0;32m      5\u001b[0m \u001b[38;5;28mprint\u001b[39m(c)\n\u001b[0;32m      6\u001b[0m \u001b[38;5;28mprint\u001b[39m(name[\u001b[38;5;241m9\u001b[39m])\n",
      "\u001b[1;31mZeroDivisionError\u001b[0m: division by zero"
     ]
    }
   ],
   "source": [
    "a = 100\n",
    "name = \"MAHESH\"\n",
    "b = int(input(\"ENter a number other than ZERO!!!\"))\n",
    "c = a/b\n",
    "print(c)\n",
    "print(name[9])"
   ]
  },
  {
   "cell_type": "code",
   "execution_count": 15,
   "id": "11ec28c5",
   "metadata": {},
   "outputs": [],
   "source": [
    "# handeling the Exception using Try...except..."
   ]
  },
  {
   "cell_type": "code",
   "execution_count": 17,
   "id": "ba6d4883",
   "metadata": {},
   "outputs": [
    {
     "name": "stdout",
     "output_type": "stream",
     "text": [
      "ENter a number other than ZERO!!!0\n",
      " Some Error occured!!!\n"
     ]
    }
   ],
   "source": [
    "a = 100\n",
    "name = \"MAHESH\"\n",
    "try:\n",
    "    b = int(input(\"ENter a number other than ZERO!!!\"))\n",
    "    c = a/b\n",
    "    print(c)\n",
    "    print(name[1])\n",
    "except:\n",
    "    print(\" Some Error occured!!!\")"
   ]
  },
  {
   "cell_type": "code",
   "execution_count": 18,
   "id": "3e6068de",
   "metadata": {},
   "outputs": [
    {
     "name": "stdout",
     "output_type": "stream",
     "text": [
      "ENter a number other than ZERO!!!0\n",
      " Some Error occured!!! division by zero\n"
     ]
    }
   ],
   "source": [
    "a = 100\n",
    "name = \"MAHESH\"\n",
    "try:\n",
    "    b = int(input(\"ENter a number other than ZERO!!!\"))\n",
    "    c = a/b\n",
    "    print(c)\n",
    "    print(name[1])\n",
    "except Exception as p:\n",
    "    print(\" Some Error occured!!!\",p)"
   ]
  },
  {
   "cell_type": "code",
   "execution_count": null,
   "id": "b00e908b",
   "metadata": {},
   "outputs": [],
   "source": []
  },
  {
   "cell_type": "code",
   "execution_count": null,
   "id": "1b1965b7",
   "metadata": {},
   "outputs": [],
   "source": []
  },
  {
   "cell_type": "code",
   "execution_count": 2,
   "id": "8c7e28ac",
   "metadata": {},
   "outputs": [],
   "source": [
    "# Handeling each type of exception using their specific class\n",
    "# thus the code will be better"
   ]
  },
  {
   "cell_type": "code",
   "execution_count": 20,
   "id": "b3cebca2",
   "metadata": {},
   "outputs": [
    {
     "name": "stdout",
     "output_type": "stream",
     "text": [
      "ENter a number other than ZERO!!!100\n",
      "1.0\n",
      " Some Error occured!!! string index out of range\n"
     ]
    }
   ],
   "source": [
    "a = 100\n",
    "name = \"MAHESH\"\n",
    "try:\n",
    "    b = int(input(\"ENter a number other than ZERO!!!\"))\n",
    "    c = a/b\n",
    "    print(c)\n",
    "    print(name[9])\n",
    "except ZeroDivisionError as p:\n",
    "    print(\" Some Error occured!!!\",p)\n",
    "except IndexError as q:\n",
    "    print(\" Some Error occured!!!\",q)  \n",
    "    "
   ]
  },
  {
   "cell_type": "code",
   "execution_count": null,
   "id": "efb2e752",
   "metadata": {},
   "outputs": [],
   "source": []
  },
  {
   "cell_type": "code",
   "execution_count": null,
   "id": "1575f8bf",
   "metadata": {},
   "outputs": [],
   "source": []
  },
  {
   "cell_type": "code",
   "execution_count": null,
   "id": "dcd15bb7",
   "metadata": {},
   "outputs": [],
   "source": []
  },
  {
   "cell_type": "code",
   "execution_count": null,
   "id": "9d16c72f",
   "metadata": {},
   "outputs": [],
   "source": []
  },
  {
   "cell_type": "code",
   "execution_count": null,
   "id": "a453dca3",
   "metadata": {},
   "outputs": [],
   "source": []
  },
  {
   "cell_type": "code",
   "execution_count": 3,
   "id": "75c9b6d8",
   "metadata": {},
   "outputs": [],
   "source": [
    "# if the code executed without any excepitions we can inform the same using 'else' block\n",
    "# else block will be executed only if none of the Exception blocks are called"
   ]
  },
  {
   "cell_type": "code",
   "execution_count": 25,
   "id": "98aec77d",
   "metadata": {},
   "outputs": [
    {
     "name": "stdout",
     "output_type": "stream",
     "text": [
      "ENter a number other than ZERO!!!00\n",
      " Some Error occured!!! division by zero\n"
     ]
    }
   ],
   "source": [
    "a = 100\n",
    "name = \"MAHESH\"\n",
    "try:\n",
    "    b = int(input(\"ENter a number other than ZERO!!!\"))\n",
    "    c = a/b\n",
    "    print(c)\n",
    "    print(name[3])\n",
    "except ZeroDivisionError as p:\n",
    "    print(\" Some Error occured!!!\",p)\n",
    "except IndexError as q:\n",
    "    print(\" Some Error occured!!!\",q) \n",
    "else: #this will be executed if there ie zero exception in the code \n",
    "    print(\"All code Executed Successfully\")"
   ]
  },
  {
   "cell_type": "code",
   "execution_count": null,
   "id": "c5973838",
   "metadata": {},
   "outputs": [],
   "source": []
  },
  {
   "cell_type": "code",
   "execution_count": 4,
   "id": "1e693760",
   "metadata": {},
   "outputs": [],
   "source": [
    "# irrespective of the code execution status 'finally' block will be executed"
   ]
  },
  {
   "cell_type": "code",
   "execution_count": 27,
   "id": "01a8bfbe",
   "metadata": {},
   "outputs": [
    {
     "name": "stdout",
     "output_type": "stream",
     "text": [
      "ENter a number other than ZERO!!!100\n",
      "1.0\n",
      "E\n",
      "All code Executed Successfully\n",
      "This will always be executed irrespective of the exception status!!!\n"
     ]
    }
   ],
   "source": [
    "a = 100\n",
    "name = \"MAHESH\"\n",
    "try:\n",
    "    b = int(input(\"ENter a number other than ZERO!!!\"))\n",
    "    c = a/b\n",
    "    print(c)\n",
    "    print(name[3])\n",
    "except ZeroDivisionError as p:\n",
    "    print(\" Some Error occured!!!\",p)\n",
    "except IndexError as q:\n",
    "    print(\" Some Error occured!!!\",q) \n",
    "else: #this will be executed if there ie zero exception in the code \n",
    "    print(\"All code Executed Successfully\")\n",
    "finally: #in all scenerios\n",
    "    print(\"This will always be executed irrespective of the exception status!!!\")"
   ]
  },
  {
   "cell_type": "code",
   "execution_count": null,
   "id": "10d185da",
   "metadata": {},
   "outputs": [],
   "source": []
  },
  {
   "cell_type": "code",
   "execution_count": null,
   "id": "b4a58be6",
   "metadata": {},
   "outputs": [],
   "source": []
  },
  {
   "cell_type": "markdown",
   "id": "0141b15e",
   "metadata": {},
   "source": [
    "# User defined Exception"
   ]
  },
  {
   "cell_type": "code",
   "execution_count": 5,
   "id": "a964e534",
   "metadata": {},
   "outputs": [],
   "source": [
    "# raising the user defined exception\n",
    "# using the keyword raise"
   ]
  },
  {
   "cell_type": "code",
   "execution_count": 32,
   "id": "726968d7",
   "metadata": {},
   "outputs": [
    {
     "name": "stdout",
     "output_type": "stream",
     "text": [
      "ENter even number only!!!13\n"
     ]
    },
    {
     "ename": "Exception",
     "evalue": "Enter Even numbers only!!",
     "output_type": "error",
     "traceback": [
      "\u001b[1;31m---------------------------------------------------------------------------\u001b[0m",
      "\u001b[1;31mException\u001b[0m                                 Traceback (most recent call last)",
      "Input \u001b[1;32mIn [32]\u001b[0m, in \u001b[0;36m<cell line: 2>\u001b[1;34m()\u001b[0m\n\u001b[0;32m      1\u001b[0m x \u001b[38;5;241m=\u001b[39m \u001b[38;5;28mint\u001b[39m(\u001b[38;5;28minput\u001b[39m(\u001b[38;5;124m\"\u001b[39m\u001b[38;5;124mENter even number only!!!\u001b[39m\u001b[38;5;124m\"\u001b[39m))\n\u001b[0;32m      2\u001b[0m \u001b[38;5;28;01mif\u001b[39;00m x\u001b[38;5;241m%\u001b[39m\u001b[38;5;241m2\u001b[39m\u001b[38;5;241m!=\u001b[39m \u001b[38;5;241m0\u001b[39m:\n\u001b[1;32m----> 3\u001b[0m     \u001b[38;5;28;01mraise\u001b[39;00m \u001b[38;5;167;01mException\u001b[39;00m(\u001b[38;5;124m\"\u001b[39m\u001b[38;5;124mEnter Even numbers only!!\u001b[39m\u001b[38;5;124m\"\u001b[39m)\n\u001b[0;32m      4\u001b[0m \u001b[38;5;28;01melse\u001b[39;00m:\n\u001b[0;32m      5\u001b[0m     \u001b[38;5;28mprint\u001b[39m(\u001b[38;5;124m\"\u001b[39m\u001b[38;5;124mNUmber is even\u001b[39m\u001b[38;5;124m\"\u001b[39m)\n",
      "\u001b[1;31mException\u001b[0m: Enter Even numbers only!!"
     ]
    }
   ],
   "source": [
    "x = int(input(\"ENter even number only!!!\"))\n",
    "if x%2!= 0:\n",
    "    raise Exception(\"Enter Even numbers only!!\")\n",
    "else:\n",
    "    print(\"NUmber is even\")"
   ]
  },
  {
   "cell_type": "code",
   "execution_count": 39,
   "id": "8f7c9878",
   "metadata": {},
   "outputs": [
    {
     "name": "stdout",
     "output_type": "stream",
     "text": [
      "ENter even number only!!!13\n",
      "Exception occured\n"
     ]
    }
   ],
   "source": [
    "x = int(input(\"ENter even number only!!!\"))\n",
    "try:    \n",
    "    if x%2!= 0:\n",
    "        raise Exception(\"Enter Even numbers only!!\")\n",
    "    else:\n",
    "        print(\"NUmber is even\")\n",
    "except:\n",
    "    print(\"Exception occured\")\n",
    "    "
   ]
  },
  {
   "cell_type": "code",
   "execution_count": null,
   "id": "47e532ef",
   "metadata": {},
   "outputs": [],
   "source": []
  },
  {
   "cell_type": "code",
   "execution_count": 6,
   "id": "e98b5bec",
   "metadata": {},
   "outputs": [],
   "source": [
    "# raising the user defined exception\n",
    "# handeling the exception"
   ]
  },
  {
   "cell_type": "code",
   "execution_count": null,
   "id": "0c10f191",
   "metadata": {},
   "outputs": [],
   "source": []
  }
 ],
 "metadata": {
  "kernelspec": {
   "display_name": "Python 3 (ipykernel)",
   "language": "python",
   "name": "python3"
  },
  "language_info": {
   "codemirror_mode": {
    "name": "ipython",
    "version": 3
   },
   "file_extension": ".py",
   "mimetype": "text/x-python",
   "name": "python",
   "nbconvert_exporter": "python",
   "pygments_lexer": "ipython3",
   "version": "3.10.5"
  }
 },
 "nbformat": 4,
 "nbformat_minor": 5
}
